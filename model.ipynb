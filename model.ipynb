{
 "cells": [
  {
   "cell_type": "code",
   "execution_count": 1,
   "metadata": {},
   "outputs": [],
   "source": [
    "import tensorflow as tf\n",
    "from tensorflow.keras.preprocessing.image import ImageDataGenerator\n",
    "from tensorflow.keras.models import Sequential\n",
    "from tensorflow.keras.layers import Conv2D, MaxPooling2D, Flatten, Dense, Dropout"
   ]
  },
  {
   "cell_type": "code",
   "execution_count": 2,
   "metadata": {},
   "outputs": [],
   "source": [
    "# Configuración del directorio y parámetros de las imágenes\n",
    "data_dir = './dataset'  # Ruta al dataset que tienes en tu PC\n",
    "image_size = (224, 224)  # Tamaño de las imágenes que utilizará el modelo\n",
    "batch_size = 32  # Tamaño del lote para entrenamiento\n",
    "num_classes = 8  # Número de clases"
   ]
  },
  {
   "cell_type": "code",
   "execution_count": 3,
   "metadata": {},
   "outputs": [
    {
     "name": "stdout",
     "output_type": "stream",
     "text": [
      "Found 9695 images belonging to 8 classes.\n",
      "Found 2420 images belonging to 8 classes.\n"
     ]
    }
   ],
   "source": [
    "# Generador de datos con separación de entrenamiento y validación\n",
    "datagen = ImageDataGenerator(rescale=1./255, validation_split=0.2)  # Normalización y división\n",
    "\n",
    "# Conjunto de entrenamiento\n",
    "train_generator = datagen.flow_from_directory(\n",
    "    data_dir,\n",
    "    target_size=image_size,\n",
    "    batch_size=batch_size,\n",
    "    class_mode='categorical',  # Multi-clase para reconocer tipo de fruta y frescura\n",
    "    subset='training'\n",
    ")\n",
    "\n",
    "# Conjunto de validación\n",
    "validation_generator = datagen.flow_from_directory(\n",
    "    data_dir,\n",
    "    target_size=image_size,\n",
    "    batch_size=batch_size,\n",
    "    class_mode='categorical',\n",
    "    subset='validation'\n",
    ")"
   ]
  },
  {
   "cell_type": "code",
   "execution_count": 4,
   "metadata": {},
   "outputs": [
    {
     "name": "stdout",
     "output_type": "stream",
     "text": [
      "['fresh_apple', 'fresh_banana', 'fresh_orange', 'fresh_tomato', 'stale_apple', 'stale_banana', 'stale_orange', 'stale_tomato']\n"
     ]
    }
   ],
   "source": [
    "# Crear lista de nombres de clases basados en el orden de los índices\n",
    "class_names = list(train_generator.class_indices.keys())\n",
    "print(class_names)\n"
   ]
  },
  {
   "cell_type": "code",
   "execution_count": 5,
   "metadata": {},
   "outputs": [
    {
     "name": "stderr",
     "output_type": "stream",
     "text": [
      "C:\\Users\\Erick\\AppData\\Local\\Packages\\PythonSoftwareFoundation.Python.3.12_qbz5n2kfra8p0\\LocalCache\\local-packages\\Python312\\site-packages\\keras\\src\\layers\\convolutional\\base_conv.py:107: UserWarning: Do not pass an `input_shape`/`input_dim` argument to a layer. When using Sequential models, prefer using an `Input(shape)` object as the first layer in the model instead.\n",
      "  super().__init__(activity_regularizer=activity_regularizer, **kwargs)\n"
     ]
    }
   ],
   "source": [
    "# Definición del modelo de red neuronal convolucional (CNN)\n",
    "model = Sequential([\n",
    "    Conv2D(32, (3, 3), activation='relu', input_shape=(224, 224, 3)),\n",
    "    MaxPooling2D(pool_size=(2, 2)),\n",
    "    \n",
    "    Conv2D(64, (3, 3), activation='relu'),\n",
    "    MaxPooling2D(pool_size=(2, 2)),\n",
    "    \n",
    "    Conv2D(128, (3, 3), activation='relu'),\n",
    "    MaxPooling2D(pool_size=(2, 2)),\n",
    "    \n",
    "    Flatten(),\n",
    "    Dense(128, activation='relu'),\n",
    "    Dropout(0.5),\n",
    "    Dense(num_classes, activation='softmax')  # 'num_classes' es el número total de categorías (fresco/pasado + tipo de fruta)\n",
    "])"
   ]
  },
  {
   "cell_type": "code",
   "execution_count": 6,
   "metadata": {},
   "outputs": [],
   "source": [
    "# Compilación del modelo\n",
    "model.compile(optimizer='adam', loss='categorical_crossentropy', metrics=['accuracy'])"
   ]
  },
  {
   "cell_type": "code",
   "execution_count": 7,
   "metadata": {},
   "outputs": [
    {
     "name": "stderr",
     "output_type": "stream",
     "text": [
      "C:\\Users\\Erick\\AppData\\Local\\Packages\\PythonSoftwareFoundation.Python.3.12_qbz5n2kfra8p0\\LocalCache\\local-packages\\Python312\\site-packages\\keras\\src\\trainers\\data_adapters\\py_dataset_adapter.py:121: UserWarning: Your `PyDataset` class should call `super().__init__(**kwargs)` in its constructor. `**kwargs` can include `workers`, `use_multiprocessing`, `max_queue_size`. Do not pass these arguments to `fit()`, as they will be ignored.\n",
      "  self._warn_if_super_not_called()\n"
     ]
    },
    {
     "name": "stdout",
     "output_type": "stream",
     "text": [
      "Epoch 1/30\n",
      "\u001b[1m303/303\u001b[0m \u001b[32m━━━━━━━━━━━━━━━━━━━━\u001b[0m\u001b[37m\u001b[0m \u001b[1m316s\u001b[0m 1s/step - accuracy: 0.5185 - loss: 1.3616 - val_accuracy: 0.7240 - val_loss: 0.6434\n",
      "Epoch 2/30\n",
      "\u001b[1m303/303\u001b[0m \u001b[32m━━━━━━━━━━━━━━━━━━━━\u001b[0m\u001b[37m\u001b[0m \u001b[1m322s\u001b[0m 1s/step - accuracy: 0.8033 - loss: 0.5527 - val_accuracy: 0.8496 - val_loss: 0.3286\n",
      "Epoch 3/30\n",
      "\u001b[1m303/303\u001b[0m \u001b[32m━━━━━━━━━━━━━━━━━━━━\u001b[0m\u001b[37m\u001b[0m \u001b[1m318s\u001b[0m 1s/step - accuracy: 0.8660 - loss: 0.3695 - val_accuracy: 0.8033 - val_loss: 0.3842\n",
      "Epoch 4/30\n",
      "\u001b[1m303/303\u001b[0m \u001b[32m━━━━━━━━━━━━━━━━━━━━\u001b[0m\u001b[37m\u001b[0m \u001b[1m293s\u001b[0m 966ms/step - accuracy: 0.8783 - loss: 0.3162 - val_accuracy: 0.8731 - val_loss: 0.2687\n",
      "Epoch 5/30\n",
      "\u001b[1m303/303\u001b[0m \u001b[32m━━━━━━━━━━━━━━━━━━━━\u001b[0m\u001b[37m\u001b[0m \u001b[1m295s\u001b[0m 975ms/step - accuracy: 0.8991 - loss: 0.2627 - val_accuracy: 0.8368 - val_loss: 0.4792\n",
      "Epoch 6/30\n",
      "\u001b[1m303/303\u001b[0m \u001b[32m━━━━━━━━━━━━━━━━━━━━\u001b[0m\u001b[37m\u001b[0m \u001b[1m333s\u001b[0m 1s/step - accuracy: 0.9123 - loss: 0.2279 - val_accuracy: 0.8988 - val_loss: 0.2726\n",
      "Epoch 7/30\n",
      "\u001b[1m303/303\u001b[0m \u001b[32m━━━━━━━━━━━━━━━━━━━━\u001b[0m\u001b[37m\u001b[0m \u001b[1m320s\u001b[0m 1s/step - accuracy: 0.9160 - loss: 0.2231 - val_accuracy: 0.9322 - val_loss: 0.1436\n",
      "Epoch 8/30\n",
      "\u001b[1m303/303\u001b[0m \u001b[32m━━━━━━━━━━━━━━━━━━━━\u001b[0m\u001b[37m\u001b[0m \u001b[1m323s\u001b[0m 1s/step - accuracy: 0.9170 - loss: 0.2180 - val_accuracy: 0.9256 - val_loss: 0.1805\n",
      "Epoch 9/30\n",
      "\u001b[1m303/303\u001b[0m \u001b[32m━━━━━━━━━━━━━━━━━━━━\u001b[0m\u001b[37m\u001b[0m \u001b[1m329s\u001b[0m 1s/step - accuracy: 0.9370 - loss: 0.1663 - val_accuracy: 0.9434 - val_loss: 0.1250\n",
      "Epoch 10/30\n",
      "\u001b[1m303/303\u001b[0m \u001b[32m━━━━━━━━━━━━━━━━━━━━\u001b[0m\u001b[37m\u001b[0m \u001b[1m312s\u001b[0m 1s/step - accuracy: 0.9372 - loss: 0.1655 - val_accuracy: 0.9595 - val_loss: 0.1079\n",
      "Epoch 11/30\n",
      "\u001b[1m303/303\u001b[0m \u001b[32m━━━━━━━━━━━━━━━━━━━━\u001b[0m\u001b[37m\u001b[0m \u001b[1m315s\u001b[0m 1s/step - accuracy: 0.9507 - loss: 0.1394 - val_accuracy: 0.9165 - val_loss: 0.2182\n",
      "Epoch 12/30\n",
      "\u001b[1m303/303\u001b[0m \u001b[32m━━━━━━━━━━━━━━━━━━━━\u001b[0m\u001b[37m\u001b[0m \u001b[1m321s\u001b[0m 1s/step - accuracy: 0.9438 - loss: 0.1481 - val_accuracy: 0.9463 - val_loss: 0.1192\n",
      "Epoch 13/30\n",
      "\u001b[1m303/303\u001b[0m \u001b[32m━━━━━━━━━━━━━━━━━━━━\u001b[0m\u001b[37m\u001b[0m \u001b[1m319s\u001b[0m 1s/step - accuracy: 0.9570 - loss: 0.1213 - val_accuracy: 0.9496 - val_loss: 0.1438\n",
      "Epoch 14/30\n",
      "\u001b[1m303/303\u001b[0m \u001b[32m━━━━━━━━━━━━━━━━━━━━\u001b[0m\u001b[37m\u001b[0m \u001b[1m308s\u001b[0m 1s/step - accuracy: 0.9567 - loss: 0.1246 - val_accuracy: 0.9450 - val_loss: 0.1432\n",
      "Epoch 15/30\n",
      "\u001b[1m303/303\u001b[0m \u001b[32m━━━━━━━━━━━━━━━━━━━━\u001b[0m\u001b[37m\u001b[0m \u001b[1m313s\u001b[0m 1s/step - accuracy: 0.9661 - loss: 0.0928 - val_accuracy: 0.9607 - val_loss: 0.1045\n",
      "Epoch 16/30\n",
      "\u001b[1m303/303\u001b[0m \u001b[32m━━━━━━━━━━━━━━━━━━━━\u001b[0m\u001b[37m\u001b[0m \u001b[1m284s\u001b[0m 937ms/step - accuracy: 0.9548 - loss: 0.1231 - val_accuracy: 0.9335 - val_loss: 0.2190\n",
      "Epoch 17/30\n",
      "\u001b[1m303/303\u001b[0m \u001b[32m━━━━━━━━━━━━━━━━━━━━\u001b[0m\u001b[37m\u001b[0m \u001b[1m328s\u001b[0m 1s/step - accuracy: 0.9590 - loss: 0.1057 - val_accuracy: 0.9541 - val_loss: 0.1403\n",
      "Epoch 18/30\n",
      "\u001b[1m303/303\u001b[0m \u001b[32m━━━━━━━━━━━━━━━━━━━━\u001b[0m\u001b[37m\u001b[0m \u001b[1m370s\u001b[0m 1s/step - accuracy: 0.9686 - loss: 0.0900 - val_accuracy: 0.9636 - val_loss: 0.1123\n",
      "Epoch 19/30\n",
      "\u001b[1m303/303\u001b[0m \u001b[32m━━━━━━━━━━━━━━━━━━━━\u001b[0m\u001b[37m\u001b[0m \u001b[1m377s\u001b[0m 1s/step - accuracy: 0.9612 - loss: 0.1031 - val_accuracy: 0.9628 - val_loss: 0.0933\n",
      "Epoch 20/30\n",
      "\u001b[1m303/303\u001b[0m \u001b[32m━━━━━━━━━━━━━━━━━━━━\u001b[0m\u001b[37m\u001b[0m \u001b[1m405s\u001b[0m 1s/step - accuracy: 0.9695 - loss: 0.0731 - val_accuracy: 0.9806 - val_loss: 0.0594\n",
      "Epoch 21/30\n",
      "\u001b[1m303/303\u001b[0m \u001b[32m━━━━━━━━━━━━━━━━━━━━\u001b[0m\u001b[37m\u001b[0m \u001b[1m422s\u001b[0m 1s/step - accuracy: 0.9648 - loss: 0.0957 - val_accuracy: 0.9533 - val_loss: 0.1571\n",
      "Epoch 22/30\n",
      "\u001b[1m303/303\u001b[0m \u001b[32m━━━━━━━━━━━━━━━━━━━━\u001b[0m\u001b[37m\u001b[0m \u001b[1m479s\u001b[0m 2s/step - accuracy: 0.9736 - loss: 0.0684 - val_accuracy: 0.9620 - val_loss: 0.1171\n",
      "Epoch 23/30\n",
      "\u001b[1m303/303\u001b[0m \u001b[32m━━━━━━━━━━━━━━━━━━━━\u001b[0m\u001b[37m\u001b[0m \u001b[1m478s\u001b[0m 2s/step - accuracy: 0.9651 - loss: 0.1015 - val_accuracy: 0.9872 - val_loss: 0.0577\n",
      "Epoch 24/30\n",
      "\u001b[1m303/303\u001b[0m \u001b[32m━━━━━━━━━━━━━━━━━━━━\u001b[0m\u001b[37m\u001b[0m \u001b[1m413s\u001b[0m 1s/step - accuracy: 0.9755 - loss: 0.0612 - val_accuracy: 0.9781 - val_loss: 0.0752\n",
      "Epoch 25/30\n",
      "\u001b[1m303/303\u001b[0m \u001b[32m━━━━━━━━━━━━━━━━━━━━\u001b[0m\u001b[37m\u001b[0m \u001b[1m267s\u001b[0m 880ms/step - accuracy: 0.9780 - loss: 0.0578 - val_accuracy: 0.9653 - val_loss: 0.1116\n",
      "Epoch 26/30\n",
      "\u001b[1m303/303\u001b[0m \u001b[32m━━━━━━━━━━━━━━━━━━━━\u001b[0m\u001b[37m\u001b[0m \u001b[1m236s\u001b[0m 780ms/step - accuracy: 0.9744 - loss: 0.0742 - val_accuracy: 0.9669 - val_loss: 0.1175\n",
      "Epoch 27/30\n",
      "\u001b[1m303/303\u001b[0m \u001b[32m━━━━━━━━━━━━━━━━━━━━\u001b[0m\u001b[37m\u001b[0m \u001b[1m241s\u001b[0m 793ms/step - accuracy: 0.9687 - loss: 0.0843 - val_accuracy: 0.9545 - val_loss: 0.1652\n",
      "Epoch 28/30\n",
      "\u001b[1m303/303\u001b[0m \u001b[32m━━━━━━━━━━━━━━━━━━━━\u001b[0m\u001b[37m\u001b[0m \u001b[1m266s\u001b[0m 879ms/step - accuracy: 0.9752 - loss: 0.0749 - val_accuracy: 0.9707 - val_loss: 0.0978\n",
      "Epoch 29/30\n",
      "\u001b[1m303/303\u001b[0m \u001b[32m━━━━━━━━━━━━━━━━━━━━\u001b[0m\u001b[37m\u001b[0m \u001b[1m318s\u001b[0m 1s/step - accuracy: 0.9826 - loss: 0.0489 - val_accuracy: 0.9587 - val_loss: 0.1231\n",
      "Epoch 30/30\n",
      "\u001b[1m303/303\u001b[0m \u001b[32m━━━━━━━━━━━━━━━━━━━━\u001b[0m\u001b[37m\u001b[0m \u001b[1m304s\u001b[0m 1s/step - accuracy: 0.9808 - loss: 0.0505 - val_accuracy: 0.9847 - val_loss: 0.0540\n"
     ]
    }
   ],
   "source": [
    "# Entrenamiento del modelo\n",
    "epochs = 30\n",
    "history = model.fit(\n",
    "    train_generator,\n",
    "    epochs=epochs,\n",
    "    validation_data=validation_generator\n",
    ")"
   ]
  },
  {
   "cell_type": "code",
   "execution_count": 8,
   "metadata": {},
   "outputs": [
    {
     "name": "stdout",
     "output_type": "stream",
     "text": [
      "\u001b[1m76/76\u001b[0m \u001b[32m━━━━━━━━━━━━━━━━━━━━\u001b[0m\u001b[37m\u001b[0m \u001b[1m15s\u001b[0m 199ms/step - accuracy: 0.9821 - loss: 0.0601\n",
      "Loss en validación: 0.05402000993490219\n",
      "Precisión en validación: 0.9847107529640198\n"
     ]
    }
   ],
   "source": [
    "# Evaluación del modelo en el conjunto de validación\n",
    "val_loss, val_accuracy = model.evaluate(validation_generator)\n",
    "print(f\"Loss en validación: {val_loss}\")\n",
    "print(f\"Precisión en validación: {val_accuracy}\")"
   ]
  },
  {
   "cell_type": "code",
   "execution_count": 9,
   "metadata": {},
   "outputs": [
    {
     "name": "stderr",
     "output_type": "stream",
     "text": [
      "WARNING:absl:You are saving your model as an HDF5 file via `model.save()` or `keras.saving.save_model(model)`. This file format is considered legacy. We recommend using instead the native Keras format, e.g. `model.save('my_model.keras')` or `keras.saving.save_model(model, 'my_model.keras')`. \n"
     ]
    }
   ],
   "source": [
    "# Guardar el modelo entrenado\n",
    "model.save(\"modelo_clasificacion_frutas.h5\")"
   ]
  }
 ],
 "metadata": {
  "kernelspec": {
   "display_name": "Python 3",
   "language": "python",
   "name": "python3"
  },
  "language_info": {
   "codemirror_mode": {
    "name": "ipython",
    "version": 3
   },
   "file_extension": ".py",
   "mimetype": "text/x-python",
   "name": "python",
   "nbconvert_exporter": "python",
   "pygments_lexer": "ipython3",
   "version": "3.12.7"
  }
 },
 "nbformat": 4,
 "nbformat_minor": 2
}
