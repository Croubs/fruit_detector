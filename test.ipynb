{
 "cells": [
  {
   "cell_type": "code",
   "execution_count": null,
   "metadata": {},
   "outputs": [],
   "source": [
    "import tensorflow as tf\n",
    "from tensorflow.keras.preprocessing import image\n",
    "import numpy as np\n",
    "import matplotlib.pyplot as plt"
   ]
  },
  {
   "cell_type": "code",
   "execution_count": null,
   "metadata": {},
   "outputs": [],
   "source": [
    "# Cargar el modelo guardado\n",
    "model = tf.keras.models.load_model('./modelo_clasificacion_frutas.h5')\n",
    "print(\"Modelo cargado exitosamente.\")"
   ]
  },
  {
   "cell_type": "code",
   "execution_count": null,
   "metadata": {},
   "outputs": [],
   "source": [
    "# Ruta de la imagen de prueba\n",
    "img_path = 'manzanas_golden.jpeg'"
   ]
  },
  {
   "cell_type": "code",
   "execution_count": null,
   "metadata": {},
   "outputs": [],
   "source": [
    "# Cargar y preprocesar la imagen\n",
    "img = image.load_img(img_path, target_size=(224, 224))\n",
    "img_array = image.img_to_array(img)  # Convierte a arreglo de NumPy\n",
    "img_array = np.expand_dims(img_array, axis=0)  # Añade una dimensión para batch\n",
    "img_array /= 255.0  # Normaliza como en el entrenamiento"
   ]
  },
  {
   "cell_type": "code",
   "execution_count": null,
   "metadata": {},
   "outputs": [],
   "source": [
    "# Realizar la predicción\n",
    "predictions = model.predict(img_array)\n",
    "predicted_class = np.argmax(predictions[0])  # Clase con la probabilidad más alta"
   ]
  },
  {
   "cell_type": "code",
   "execution_count": null,
   "metadata": {},
   "outputs": [],
   "source": [
    "# Mapeo de nombre de las clases\n",
    "class_names = ['Manzana', 'Platano', 'Calabaza amarga', 'Pimiento', 'Naranja', 'Tomate', 'Manzana', 'Platano', 'Calabaza amarga', 'Pimiento', 'Naranja', 'Tomate']\n",
    "\n",
    "# Mostrar la imagen y la predicción\n",
    "plt.imshow(img)\n",
    "plt.title(f'Predicción: {class_names[predicted_class]}')\n",
    "plt.axis('off')\n",
    "plt.show()"
   ]
  },
  {
   "cell_type": "code",
   "execution_count": null,
   "metadata": {},
   "outputs": [],
   "source": [
    "print(\"Probabilidades de predicción:\", predictions[0])"
   ]
  }
 ],
 "metadata": {
  "kernelspec": {
   "display_name": "env",
   "language": "python",
   "name": "python3"
  },
  "language_info": {
   "codemirror_mode": {
    "name": "ipython",
    "version": 3
   },
   "file_extension": ".py",
   "mimetype": "text/x-python",
   "name": "python",
   "nbconvert_exporter": "python",
   "pygments_lexer": "ipython3",
   "version": "3.10.12"
  }
 },
 "nbformat": 4,
 "nbformat_minor": 2
}
